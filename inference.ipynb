{
 "cells": [
  {
   "cell_type": "code",
   "execution_count": 1,
   "metadata": {},
   "outputs": [],
   "source": [
    "path_test_folder='project_files/synthetic_data_15_3/test'"
   ]
  },
  {
   "cell_type": "code",
   "execution_count": 2,
   "metadata": {},
   "outputs": [],
   "source": [
    "from performance_measure import calculate_metrics\n",
    "from models import lenet,resnet,efficient_net\n",
    "import config\n",
    "import torch\n",
    "from torchvision.transforms import v2\n",
    "import torch.utils.data as data\n",
    "from torchvision.datasets import ImageFolder\n",
    "import os"
   ]
  },
  {
   "cell_type": "code",
   "execution_count": 3,
   "metadata": {},
   "outputs": [],
   "source": [
    "def get_dataloader(path,data_transform):\n",
    "    dataset=ImageFolder(path,transform=data_transform)\n",
    "    dataloader=data.DataLoader(dataset,batch_size=config.batch_size)\n",
    "    print('Number of points in dataset - ', len(dataset))\n",
    "    return dataloader"
   ]
  },
  {
   "cell_type": "code",
   "execution_count": 4,
   "metadata": {},
   "outputs": [],
   "source": [
    "model_dict={'lenet':'lenet','resnet':'resnet','resnet256':'resnet256',#'efficient_net':'enet'\n",
    "            }"
   ]
  },
  {
   "cell_type": "code",
   "execution_count": 9,
   "metadata": {},
   "outputs": [
    {
     "name": "stdout",
     "output_type": "stream",
     "text": [
      "Model -  lenet\n",
      "Number of points in dataset -  84\n",
      "**************************************************\n",
      "Accuracy: 72.14% , Precision: 0.76 , Recall: 0.71 , F1 Score: 0.73 , Loss: 0.9648\n",
      "**************************************************\n",
      "Model -  resnet\n",
      "Number of points in dataset -  84\n",
      "**************************************************\n",
      "Accuracy: 66.90% , Precision: 0.68 , Recall: 0.66 , F1 Score: 0.67 , Loss: 0.9169\n",
      "**************************************************\n",
      "Model -  resnet256\n",
      "Number of points in dataset -  84\n",
      "**************************************************\n",
      "Accuracy: 68.57% , Precision: 0.73 , Recall: 0.68 , F1 Score: 0.70 , Loss: 0.7802\n",
      "**************************************************\n"
     ]
    }
   ],
   "source": [
    "for model in model_dict.keys():\n",
    "    model_name=model_dict[model]\n",
    "    print('Model - ',model_name)\n",
    "    out_dir=os.path.join(f'saved_models',f'{model_name}_saved_model')\n",
    "    data_transforms=torch.load(os.path.join(out_dir,f'transforms_{model_name}.pt'))\n",
    "    test_loader=get_dataloader(path_test_folder,data_transforms)\n",
    "    if(model=='lenet'):\n",
    "        seq_model = lenet.LeNet(config.num_classes)\n",
    "    elif(model=='resnet' or model=='resnet256'):\n",
    "        seq_model = resnet.CustomResNet(config.num_classes).get_model()\n",
    "    elif(model=='efficient_net'):\n",
    "        enet_model = efficient_net.CustomEfficientNet(config.num_classes).get_model()\n",
    "    seq_model.load_state_dict(torch.load(os.path.join(out_dir,f'state_{model_name}.pt'),map_location=torch.device('cpu')))\n",
    "    #calcualte the metrics 5 times and take the average\n",
    "    out=calculate_metrics(test_loader,seq_model,5,False)\n",
    "    #take average of the metrics\n",
    "    print('*'*50)\n",
    "    print('Accuracy: {:.2f}%'.format(out['accuracy']),end = ' , ')\n",
    "    print('Precision: {:.2f}'.format(out['precision']),end = ' , ')\n",
    "    print('Recall: {:.2f}'.format(out['recall']),end = ' , ')\n",
    "    print('F1 Score: {:.2f}'.format(out['f1_score']),end = ' , ')\n",
    "    print('Loss: {:.4f}'.format(out['loss']))\n",
    "    print('*'*50)\n",
    "   \n",
    "    \n"
   ]
  },
  {
   "cell_type": "code",
   "execution_count": 6,
   "metadata": {},
   "outputs": [
    {
     "name": "stdout",
     "output_type": "stream",
     "text": [
      "Number of points in dataset -  84\n",
      "Avergae loss 1.1975 , Accuracy: 71.43% , Macro recall : 0.6965, Macro precision : 0.6857, Macro f1 : 0.6910\n"
     ]
    }
   ],
   "source": [
    "#loading the lenet model \n",
    "out_dir=os.path.join('saved_models','lenet_saved_model')\n",
    "data_transforms=torch.load(os.path.join(out_dir,'transforms_lenet.pt'))\n",
    "test_dataloader=get_dataloader(path_test_folder,data_transforms)\n",
    "seq_model = lenet.LeNet(config.num_classes)\n",
    "seq_model.load_state_dict(torch.load(os.path.join(out_dir,'state_lenet.pt'),map_location=torch.device('cpu')))\n",
    "out_test_lenet=calculate_metrics(test_dataloader,seq_model)"
   ]
  },
  {
   "cell_type": "code",
   "execution_count": null,
   "metadata": {},
   "outputs": [],
   "source": []
  },
  {
   "cell_type": "code",
   "execution_count": null,
   "metadata": {},
   "outputs": [],
   "source": []
  }
 ],
 "metadata": {
  "kernelspec": {
   "display_name": "base",
   "language": "python",
   "name": "python3"
  },
  "language_info": {
   "codemirror_mode": {
    "name": "ipython",
    "version": 3
   },
   "file_extension": ".py",
   "mimetype": "text/x-python",
   "name": "python",
   "nbconvert_exporter": "python",
   "pygments_lexer": "ipython3",
   "version": "3.12.2"
  }
 },
 "nbformat": 4,
 "nbformat_minor": 2
}
